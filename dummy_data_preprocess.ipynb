{
 "cells": [
  {
   "cell_type": "code",
   "execution_count": null,
   "metadata": {},
   "outputs": [],
   "source": [
    "import pandas as pd\n",
    "\n",
    "data = pd.read_csv('tabular_test_sampled.csv')\n",
    "data.iloc[:, 5:]= data.iloc[:, 5:].fillna(data.iloc[:, 5:].mean())\n",
    "# 确定标签和特征\n",
    "features = data.iloc[:,5:-1]  # 从'高血压'列开始的所有列作为输入特征\n",
    "labels = data.iloc[:,4]   #ADL作为标签"
   ]
  }
 ],
 "metadata": {
  "kernelspec": {
   "display_name": "base",
   "language": "python",
   "name": "python3"
  },
  "language_info": {
   "name": "python",
   "version": "3.11.5"
  }
 },
 "nbformat": 4,
 "nbformat_minor": 2
}
