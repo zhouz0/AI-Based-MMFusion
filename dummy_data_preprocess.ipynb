{
 "cells": [
  {
   "cell_type": "code",
   "execution_count": null,
   "metadata": {},
   "outputs": [],
   "source": [
    "import pandas as pd\n",
    "\n",
    "data = pd.read_csv('tabular_test_sampled.csv')\n",
    "data.iloc[:, 3:]= data.iloc[:, 3:].fillna(data.iloc[:, 3:].mean())\n",
    "# 确定标签和特征\n",
    "features = data.iloc[:,5:-1] \n",
    "labels = data.iloc[:,4]   "
   ]
  }
 ],
 "metadata": {
  "kernelspec": {
   "display_name": "base",
   "language": "python",
   "name": "python3"
  },
  "language_info": {
   "name": "python",
   "version": "3.11.5"
  }
 },
 "nbformat": 4,
 "nbformat_minor": 2
}
